{
  "cells": [
    {
      "cell_type": "markdown",
      "metadata": {
        "id": "view-in-github",
        "colab_type": "text"
      },
      "source": [
        "<a href=\"https://colab.research.google.com/github/Cardcaptress/bioinformatics-data-analyse/blob/practicals/Kopie_van_LB2292_Module_2.ipynb\" target=\"_parent\"><img src=\"https://colab.research.google.com/assets/colab-badge.svg\" alt=\"Open In Colab\"/></a>"
      ]
    },
    {
      "cell_type": "markdown",
      "metadata": {
        "id": "snPvFw9pKIAS"
      },
      "source": [
        "## Module 2: Group Testing and multiple testing correction\n",
        "\n",
        "Notebook version: `25.1` (please don't change)\n",
        "\n",
        "**IMPORTANT: Before you do anything, save a copy of this notebook to your own google drive using the `File -> Save a copy to Drive` button in the menu. Otherwise you cannot save your changes. Once you've saved a copy to your own drive, it's available there just like a regular Google Docs file, and it is saved automatically.**"
      ]
    },
    {
      "cell_type": "markdown",
      "metadata": {
        "id": "ADN3ULUoHU-s"
      },
      "source": [
        "\n",
        "Load in the required libraries and data by running the cell below."
      ]
    },
    {
      "cell_type": "code",
      "execution_count": 1,
      "metadata": {
        "colab": {
          "base_uri": "https://localhost:8080/"
        },
        "id": "iytW4ETDE66E",
        "outputId": "59fcf829-542f-4a3f-dd45-b075ad7c386f"
      },
      "outputs": [
        {
          "output_type": "stream",
          "name": "stdout",
          "text": [
            "--2025-02-20 09:57:55--  https://raw.githubusercontent.com/brmprnk/LB2292/main/golub.pkl\n",
            "Resolving raw.githubusercontent.com (raw.githubusercontent.com)... 185.199.111.133, 185.199.108.133, 185.199.110.133, ...\n",
            "Connecting to raw.githubusercontent.com (raw.githubusercontent.com)|185.199.111.133|:443... connected.\n",
            "HTTP request sent, awaiting response... 200 OK\n",
            "Length: 7640109 (7.3M) [application/octet-stream]\n",
            "Saving to: ‘golub.pkl’\n",
            "\n",
            "golub.pkl           100%[===================>]   7.29M  --.-KB/s    in 0.1s    \n",
            "\n",
            "2025-02-20 09:57:55 (53.1 MB/s) - ‘golub.pkl’ saved [7640109/7640109]\n",
            "\n",
            "--2025-02-20 09:57:56--  https://raw.githubusercontent.com/brmprnk/LB2292/main/LST_Functions.py\n",
            "Resolving raw.githubusercontent.com (raw.githubusercontent.com)... 185.199.110.133, 185.199.109.133, 185.199.108.133, ...\n",
            "Connecting to raw.githubusercontent.com (raw.githubusercontent.com)|185.199.110.133|:443... connected.\n",
            "HTTP request sent, awaiting response... 200 OK\n",
            "Length: 15367 (15K) [text/plain]\n",
            "Saving to: ‘LST_Functions.py’\n",
            "\n",
            "LST_Functions.py    100%[===================>]  15.01K  --.-KB/s    in 0.001s  \n",
            "\n",
            "2025-02-20 09:57:56 (21.6 MB/s) - ‘LST_Functions.py’ saved [15367/15367]\n",
            "\n"
          ]
        }
      ],
      "source": [
        "!wget -nc https://raw.githubusercontent.com/brmprnk/LB2292/main/golub.pkl\n",
        "!wget -nc https://raw.githubusercontent.com/brmprnk/LB2292/main/LST_Functions.py\n",
        "\n",
        "import numpy as np\n",
        "import pickle\n",
        "import math\n",
        "import statsmodels.stats.multitest as multitest\n",
        "import scipy.special as special\n",
        "import scipy.stats as stats\n",
        "import matplotlib.pyplot as plt\n",
        "\n",
        "from LST_Functions import ztest_1samp  # ignore the yellow warning line\n",
        "\n",
        "# Read data\n",
        "with open('golub.pkl', 'rb') as f:\n",
        "\tdatadict = pickle.load(f)\n",
        "\n",
        "data = datadict['data']\n",
        "genes = datadict['genes']\n",
        "labels = datadict['labels']\n",
        "\n",
        "ALL = np.where(labels == 0)[0]\n",
        "AML = np.where(labels == 1)[0]"
      ]
    },
    {
      "cell_type": "markdown",
      "metadata": {
        "id": "AwdBoIT4Hq8F"
      },
      "source": [
        "### **Fisher's exact test**\n",
        "There may be a genetic basis for increased tasting abilities. Last year, researchers performed\n",
        "a genome- wide association study (GWAS) to find the relationship between genetic variations\n",
        "(single nucleotides) and several taste traits. Thousands of **GWAS** studies have been performed\n",
        "since their introduction one decade ago. You can read more about them for instance on\n",
        "[Wikipedia](https://en.wikipedia.org/wiki/Genome-wide_association_study).\n",
        "\n",
        "For one trait, enhanced bitter taste ability, the GWAS results from last year are as follows:\n",
        "\n",
        "|   | **SNP_id: rs4988235**  |   |\n",
        "|---|---|---|\n",
        "\n",
        "|   | AA  | AG  | GG  |\n",
        "|---|---|---|---|\n",
        "| Bitter  | 2 | 3 | 7 |\n",
        "| Not Bitter  | 4 | 9 | 11 |\n"
      ]
    },
    {
      "cell_type": "markdown",
      "metadata": {
        "id": "LShW_xx8HU-v"
      },
      "source": [
        "\n",
        "\n",
        "---\n",
        "\n",
        "####  ✏ Exercise 1a (Fisher's exact test)\n",
        "\n",
        "> Determine the association between bitter taste and the AA/AG SNP using Fisher’s Exact Test. Is the association significant? Use the `math.comb` function for the nCr operator.\n",
        ">\n",
        "> Hint: Turn this 2x3 table into a 2x2 contingency table.\n"
      ]
    },
    {
      "cell_type": "code",
      "execution_count": 2,
      "metadata": {
        "id": "JU8fQzPIKxbc",
        "colab": {
          "base_uri": "https://localhost:8080/"
        },
        "outputId": "03e6ee25-2948-428a-ee3a-65e9682f0e56"
      },
      "outputs": [
        {
          "output_type": "stream",
          "name": "stdout",
          "text": [
            "p-value is  0.8555061179087877\n",
            "Not significant\n"
          ]
        }
      ],
      "source": [
        "# Contigency table, AA & AG taken together\n",
        "import math\n",
        "alpha = 0.05\n",
        "Table = np.array([[5, 7], [13, 11]])\n",
        "\n",
        "nbitter    = Table[0][0] + Table[0][1]\n",
        "nnonbitter = Table[1][0] + Table[1][1]\n",
        "AGtotal = Table[0][0]+Table[1][0]\n",
        "n = nbitter + nnonbitter\n",
        "\n",
        "All = math.comb(n, AGtotal)\n",
        "answer = 0;\n",
        "\n",
        "for x in range(Table[0][0],nbitter+1):\n",
        "  Bitter     = math.comb(nbitter, x)\n",
        "  Notbitter  = math.comb(nnonbitter, AGtotal-x)\n",
        "  Probability = Bitter*Notbitter/All\n",
        "  answer += Probability\n",
        "\n",
        "print('p-value is ',answer)\n",
        "\n",
        "if answer < alpha:\n",
        "  print(\"Significant\")\n",
        "else:\n",
        "  print(\"Not significant\")"
      ]
    },
    {
      "cell_type": "markdown",
      "metadata": {
        "id": "OMZS_s8ocnIo"
      },
      "source": [
        "\n",
        "---\n",
        "\n",
        "#### ✏ Exercise 1b (Fisher's exact test)\n",
        "\n",
        "> Again calculate if the above association is significant, but this time use the function from `scipy.stats` (just `stats.function_to_call` will suffice). Was your above calculation of the p-value correct?\n"
      ]
    },
    {
      "cell_type": "code",
      "source": [
        "fish = stats.fisher_exact(Table,alternative='greater')\n",
        "print('pvalue is ',fish[1])\n",
        "\n",
        "if fish[1] == answer:\n",
        "  print('values are the same')\n",
        "elif np.isclose(fish[1],answer):\n",
        "  print('values are close')\n",
        "else:\n",
        "  print('values are different')"
      ],
      "metadata": {
        "colab": {
          "base_uri": "https://localhost:8080/"
        },
        "id": "Yl2367i4v4a-",
        "outputId": "bd21af61-6773-40fb-87f1-73788eb88133"
      },
      "execution_count": 3,
      "outputs": [
        {
          "output_type": "stream",
          "name": "stdout",
          "text": [
            "pvalue is  0.8555061179087875\n",
            "values are close\n"
          ]
        }
      ]
    },
    {
      "cell_type": "markdown",
      "metadata": {
        "id": "BLHGyef8I7Yk"
      },
      "source": [
        "### Chi-square test"
      ]
    },
    {
      "cell_type": "markdown",
      "metadata": {
        "id": "d6hZ76qAHU-w"
      },
      "source": [
        "\n",
        "---\n",
        "\n",
        "#### ✏ Exercise 2\n",
        "\n",
        "> Repeat the previous exercise using the Pearson's Chi-square test. What is the p-value? Is the association significant?\n",
        ">\n",
        "> Hint: Use the Python function `st.chi2.sf` to calculate the p-value associated with X2. How many degrees of freedom would you use?"
      ]
    },
    {
      "cell_type": "code",
      "execution_count": null,
      "metadata": {
        "id": "XhwfJ0dQMlnV"
      },
      "outputs": [],
      "source": [
        "# SOLUTION:\n",
        "\n",
        "# Your code here ...\n"
      ]
    },
    {
      "cell_type": "markdown",
      "metadata": {
        "id": "K7N6-LBkHMrP"
      },
      "source": [
        "### **Fisher's exact / hypergeometric test**"
      ]
    },
    {
      "cell_type": "markdown",
      "metadata": {
        "id": "wImu6D-NHU-x"
      },
      "source": [
        "\n",
        "---\n",
        "\n",
        "#### ✏ Exercise 3a\n",
        "\n",
        "> In an experiment to identify genes related to Alzheimer's, researchers have tested 500 genes in human samples. Among the 500 genes, 10 genes are known to be involved in calcium signaling and 200 are known to be involved in apoptosis. The researchers have *found* a significant association between 50 genes and Alzheimer's among which 6 belong to the calcium signaling set and 20 belong to the apoptosis set. The researcher wants to know whether genes involved in calcium signaling or apoptosis are more represented in their selected set.\n",
        ">\n",
        "> Hint: Look at the function `stats.fisher_exact`. This question requires two tests and thus two contingency tables."
      ]
    },
    {
      "cell_type": "code",
      "execution_count": null,
      "metadata": {
        "id": "prpNN9rgARGb"
      },
      "outputs": [],
      "source": [
        "# Given variables\n",
        "N = 500 # total number of genes\n",
        "m = 50 # number of selected genes\n",
        "S1 = 10 # number of genes involved in calcium signaling\n",
        "k1 = 6 # number of genes in m and involved in calcium signaling\n",
        "S2 = 200 # number of genes involved in apoptosis\n",
        "k2 = 20 # number of genes in m and involved in apoptosis\n",
        "p1 = 0 ## calcium signaling enrichment (to be calculated)\n",
        "p2 =  0 ## apoptosis enrichment (to be calculated)\n",
        "\n",
        "# SOLUTION:\n",
        "\n",
        "# Your code here ...\n"
      ]
    },
    {
      "cell_type": "markdown",
      "metadata": {
        "id": "8YvmG7LUHU-x"
      },
      "source": [
        "### Gene Ontology enrichment"
      ]
    },
    {
      "cell_type": "markdown",
      "metadata": {
        "id": "0U59f3r3JH_q"
      },
      "source": [
        "\n",
        "---\n",
        "\n",
        "#### ✏ Exercise 3a (EXTRA QUESTION, not required)\n",
        "> If you want to characterise a set of genes, you can look for enriched gene ontology (GO) terms: annotated properties of genes that are overrepresented in a gene set. There are many online tools to do this.\n",
        ">\n",
        "> Go to the ToppFun tool in [ToppGene](https://toppgene.cchmc.org/enrichment.jsp). Here you can enter a list of gene identifiers to find enriched GO terms. Enter a gene set, either from the t-test results of exercise A, or by selecting one of the example data sets. Click “start” to perform the tests. Which statistical test is used by ToppGene?\n",
        "\n",
        "**SOLUTION:**\n",
        "\n",
        "(your answer here)\n",
        "\n",
        "---\n"
      ]
    },
    {
      "cell_type": "markdown",
      "metadata": {
        "id": "6Z5OC8U9JbMN"
      },
      "source": [
        "### **Multiple testing correction**\n",
        "\n",
        "The first code block has loaded in the golub data from Module 1. The following code will calculate the number of differentially expressed genes between the ALL and AML samples using a t-test and plot the distribution of the t-statistic and p-values. Next, we create a randomized dataset by permuting the sample labels, and we repeat the experiment.\n"
      ]
    },
    {
      "cell_type": "code",
      "execution_count": 4,
      "metadata": {
        "id": "xcA9P5dJP1Aw",
        "colab": {
          "base_uri": "https://localhost:8080/",
          "height": 977
        },
        "outputId": "ffe85434-c46f-44fb-e741-c24cfe987096"
      },
      "outputs": [
        {
          "output_type": "display_data",
          "data": {
            "text/plain": [
              "<Figure size 640x480 with 2 Axes>"
            ],
            "image/png": "[encoded data removed]"
          },
          "metadata": {}
        },
        {
          "output_type": "display_data",
          "data": {
            "text/plain": [
              "<Figure size 640x480 with 2 Axes>"
            ],
            "image/png": "[encoded data removed]"
          },
          "metadata": {}
        }
      ],
      "source": [
        "# (1) t-test on the real data\n",
        "# perform t-test for all genes\n",
        "[T, pTtest] = stats.ttest_ind(data[:, ALL], data[:, AML], axis=1, equal_var=True)\n",
        "\n",
        "# plot the histogram of the t-statistics and p-values you calculated\n",
        "fig = plt.figure()\n",
        "ax = fig.add_subplot(1, 2, 1)\n",
        "ax.hist(T, bins=10, edgecolor='k')\n",
        "ax.set_xlabel('T statistic value')\n",
        "ax.set_ylabel('Frequency')\n",
        "ax = fig.add_subplot(1, 2, 2)\n",
        "ax.hist(pTtest, bins=20, edgecolor='k')\n",
        "ax.set_xlabel('p-value')\n",
        "ax.set_ylabel('Frequency')\n",
        "plt.suptitle('Original data')\n",
        "\n",
        "# (2) t-test on the random data\n",
        "# generate a new label vector (for now all labels are zero -> ALL)\n",
        "l = np.random.permutation(labels)\n",
        "# find the indices of the ALL and ALL samples\n",
        "randALL = np.where(l == 0)[0];\n",
        "randAML = np.where(l == 1)[0];\n",
        "# apply the t-test to the random samples\n",
        "[Trand, pRand] = stats.ttest_ind(data[:, randALL], data[:, randAML], axis=1, equal_var=True)\n",
        "\n",
        "# plot the histogram of the t-statistics and p-values you calculated\n",
        "fig = plt.figure()\n",
        "ax = fig.add_subplot(1, 2, 1)\n",
        "ax.hist(Trand, bins=10, edgecolor='k')\n",
        "ax.set_xlabel('T statistic value')\n",
        "ax.set_ylabel('Frequency')\n",
        "ax = fig.add_subplot(1, 2, 2)\n",
        "ax.hist(pRand, bins=20, edgecolor='k')\n",
        "ax.set_xlabel('p-value')\n",
        "ax.set_ylabel('Frequency')\n",
        "plt.suptitle('Randomized data')\n",
        "plt.show()"
      ]
    },
    {
      "cell_type": "markdown",
      "metadata": {
        "id": "ITgDi9CXJhrt"
      },
      "source": [
        "\n",
        "---\n",
        "*** ✏ Exercise 4a\n",
        "\n",
        "> What are the numbers of differentially expressed genes in case of using the real data and in case of using the randomized data? How can you explain the differentially expressed genes obtained using the randomized data?"
      ]
    },
    {
      "cell_type": "code",
      "execution_count": 10,
      "metadata": {
        "id": "10H-JAZFQucA",
        "colab": {
          "base_uri": "https://localhost:8080/"
        },
        "outputId": "b8a2e07f-6120-448c-f12b-0c32d7d6f556"
      },
      "outputs": [
        {
          "output_type": "stream",
          "name": "stdout",
          "text": [
            "# differently expressed genes in real data is  1045\n",
            "# differently expressed genes in random data is  143\n",
            "This difference can be observed in the plotted graphs above. The frequency of original data decreases with higher p-values.\n",
            "Yet the randomized data frequencies are equally distributed over the p-values\n",
            "This explains why there are less significant genes in the randomized data with alpha <0.05\n"
          ]
        }
      ],
      "source": [
        "# SOLUTION:\n",
        "alpha = 0.05\n",
        "\n",
        "sig_real = []\n",
        "sig_rand = []\n",
        "\n",
        "for i in range(0,len(pTtest)):\n",
        "  if pTtest[i] < alpha:\n",
        "    sig_real.append(i)\n",
        "\n",
        "for i in range(0,len(pRand)):\n",
        "  if pRand[i] < alpha:\n",
        "    sig_rand.append(i)\n",
        "\n",
        "print('# differently expressed genes in real data is ',len(sig_real))\n",
        "print('# differently expressed genes in random data is ',len(sig_rand))\n",
        "print('This difference can be observed in the plotted graphs above. The frequency of original data decreases with higher p-values.\\nYet the randomized data frequencies are equally distributed over the p-values')\n",
        "print('This explains why there are less significant genes in the randomized data with alpha <0.05')"
      ]
    },
    {
      "cell_type": "markdown",
      "metadata": {
        "id": "eyAC7PrGJuBt"
      },
      "source": [
        "\n",
        "---\n",
        "\n",
        "#### ✏ Exercise 4b\n",
        "\n",
        "> Use a Bonferroni (FWER) corrected significance level to call differentially expressed genes (using the real data). What is the new Bonferroni-corrected significance level (alpha)? How many genes are significant before and after correction? And in the randomized dataset?"
      ]
    },
    {
      "cell_type": "code",
      "execution_count": 22,
      "metadata": {
        "id": "gN7ucDIFRCIW",
        "colab": {
          "base_uri": "https://localhost:8080/"
        },
        "outputId": "d6d011ad-ec80-440b-841d-206d0c7e164b"
      },
      "outputs": [
        {
          "output_type": "stream",
          "name": "stdout",
          "text": [
            "# bonferroni significant genes in real data is  98\n",
            "# bonferonni significant genes in random data is  0\n",
            "\n",
            "# original significant genes in real data is  1045\n",
            "# original significant genes in random data is  143\n"
          ]
        }
      ],
      "source": [
        "# SOLUTION:\n",
        "m = 3051\n",
        "bon_alpha = alpha/m\n",
        "\n",
        "bon_sig_real = []\n",
        "bon_sig_rand = []\n",
        "\n",
        "for i in range(0,len(pTtest)):\n",
        "  if pTtest[i] < bon_alpha:\n",
        "    bon_sig_real.append(i)\n",
        "\n",
        "for i in range(0,len(pRand)):\n",
        "  if pRand[i] < bon_alpha:\n",
        "    bon_sig_rand.append(i)\n",
        "\n",
        "print('# bonferroni significant genes in real data is ',len(bon_sig_real))\n",
        "print('# bonferonni significant genes in random data is ',len(bon_sig_rand))\n",
        "print()\n",
        "print('# original significant genes in real data is ',len(sig_real))\n",
        "print('# original significant genes in random data is ',len(sig_rand))\n"
      ]
    },
    {
      "cell_type": "markdown",
      "metadata": {
        "id": "aIDH9LoiJ9Dh"
      },
      "source": [
        "\n",
        "---\n",
        "\n",
        "#### ✏ Exercise 4c\n",
        "\n",
        "> Use the Benjamini-Hochberg method (FDR) to correct for multiple testing. How many genes are differentially expressed (take FDR = 0.05)? How does this number compare to the number you got using the Bonferroni method? And in the randomized dataset?"
      ]
    },
    {
      "cell_type": "code",
      "execution_count": 17,
      "metadata": {
        "id": "a5Ih4af4AYEE",
        "colab": {
          "base_uri": "https://localhost:8080/"
        },
        "outputId": "752fc434-e811-4be4-9647-c09111efb2d4"
      },
      "outputs": [
        {
          "output_type": "stream",
          "name": "stdout",
          "text": [
            "# FDR significant genes in real data is  681\n",
            "# FDR significant genes in random data is  0\n"
          ]
        }
      ],
      "source": [
        "# SOLUTION:\n",
        "#sort pvalues real data\n",
        "sorted_real = np.sort(pTtest)\n",
        "sig_sorted_real = []\n",
        "\n",
        "for i in range(len(sorted_real)):\n",
        "  if sorted_real[i] <= (i+1)/m*alpha:\n",
        "    sig_sorted_real.append(i)\n",
        "  else:\n",
        "    break\n",
        "\n",
        "sorted_rand = np.sort(pRand)\n",
        "sig_sorted_rand = []\n",
        "\n",
        "for i in range(len(sorted_rand)):\n",
        "  if sorted_rand[i] <= (i+1)/m*alpha:\n",
        "    sig_sorted_rand.append(i)\n",
        "  else:\n",
        "    break\n",
        "\n",
        "print('# FDR significant genes in real data is ',len(sig_sorted_real))\n",
        "print('# FDR significant genes in random data is ',len(sig_sorted_rand))\n"
      ]
    },
    {
      "cell_type": "markdown",
      "metadata": {
        "id": "2RAJd7ouRnBP"
      },
      "source": [
        "\n",
        "---\n",
        "\n",
        "#### ✏ Exercise 4d\n",
        "\n",
        "> Use the `multitest.multipletests` function to correct for multiple testing using the Benjamini-Hochberg method. Do you get the same results?"
      ]
    },
    {
      "cell_type": "code",
      "execution_count": 20,
      "metadata": {
        "id": "NAcE3SNtRnmC",
        "colab": {
          "base_uri": "https://localhost:8080/"
        },
        "outputId": "349378dc-5a9f-4c3b-e6fb-8767e06d6f9f"
      },
      "outputs": [
        {
          "output_type": "stream",
          "name": "stdout",
          "text": [
            "# multipletest FDR significant genes in real data is  681\n",
            "# multipletest FDR significant genes in random data is  0\n",
            "Both tests show the same results\n"
          ]
        }
      ],
      "source": [
        "# SOLUTION:\n",
        "\n",
        "multi_real = multitest.multipletests(pTtest, alpha=alpha, method='fdr_bh')\n",
        "multi_rand = multitest.multipletests(pRand, alpha=alpha, method = 'fdr_bh')\n",
        "n_real = 0\n",
        "n_rand = 0\n",
        "\n",
        "for i in multi_real[0]:\n",
        "  if i:\n",
        "   n_real+=1\n",
        "\n",
        "for i in multi_rand[0]:\n",
        "  if i:\n",
        "   n_rand+=1\n",
        "\n",
        "x = sum(multi_real[0])\n",
        "y = sum(multi_rand[0])\n",
        "\n",
        "print('# multipletest FDR significant genes in real data is ',x)\n",
        "print('# multipletest FDR significant genes in random data is ',y)\n",
        "print('Both tests show the same results')"
      ]
    }
  ],
  "metadata": {
    "colab": {
      "provenance": [],
      "collapsed_sections": [
        "BLHGyef8I7Yk",
        "K7N6-LBkHMrP",
        "8YvmG7LUHU-x"
      ],
      "include_colab_link": true
    },
    "kernelspec": {
      "display_name": "Python 3",
      "name": "python3"
    },
    "language_info": {
      "name": "python"
    }
  },
  "nbformat": 4,
  "nbformat_minor": 0
}