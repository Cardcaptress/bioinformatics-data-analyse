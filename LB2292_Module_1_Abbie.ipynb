{
  "cells": [
    {
      "cell_type": "markdown",
      "metadata": {
        "id": "view-in-github",
        "colab_type": "text"
      },
      "source": [
        "<a href=\"https://colab.research.google.com/github/Cardcaptress/bioinformatics-data-analyse/blob/practicals/LB2292_Module_1_Abbie.ipynb\" target=\"_parent\"><img src=\"https://colab.research.google.com/assets/colab-badge.svg\" alt=\"Open In Colab\"/></a>"
      ]
    },
    {
      "cell_type": "markdown",
      "metadata": {
        "id": "2vlJS2LTio0Y"
      },
      "source": [
        "# Module 1: Fundamentals of Testing\n",
        "\n",
        "Notebook version: `25.0` (please don't change)"
      ]
    },
    {
      "cell_type": "markdown",
      "source": [],
      "metadata": {
        "id": "v7a4qMN_Sn91"
      }
    },
    {
      "cell_type": "markdown",
      "metadata": {
        "id": "Bg7LOB8TSnSC"
      },
      "source": [
        "## Background on distributions and p-values\n",
        "\n",
        "Let us see, setp by step how to calculate a p-value for the Z-test.\n",
        "\n",
        "### The Normal Distribution - Probability density function\n",
        "\n",
        "Theory tells us that under the null hypothesis the Z-test statistic follows a Normal distribution with mean 0 and standard deviation 1. Every continuous random variable can be described in terms of its Probability Density Function (PDF), which describes the distribution of the random variable (which values occur and how often). When a variable is normally distributed the PDF takes the form of the well-known bell curve (Figure 1).\n",
        "\n",
        "| ![Illustration of a standard normal distribution](https://raw.githubusercontent.com/brmprnk/LB2292/refs/heads/main/module1/img/normal_dist.bmp) |\n",
        "|:--:|\n",
        "| **Figure 1**: Probability Density Function for a Normal distribution with mean 0 and standard deviation 1. |\n",
        "\n",
        "Note that the value of the PDF for a specific value of the random variable $x$, $𝑃𝐷𝐹(𝑥)$, is NOT the probability of observing that value for the variable. Instead, the area under the curve of a PDF relates to a probability. For example, the area under the PDF between $-2$ and $0.2$ represents the probability of observing a value of X within the range $[-2, 0.2]$, which for the normal distribution is $0.557$ (Figure 2). We write this as $𝑃(−2 \\leq 𝑋 \\leq 0.2)=0.557$. Note that a PDF is not always bell-shaped but depends on how the values of the random variable are distributed.\n",
        "\n",
        "| ![Area under normal distribution](https://raw.githubusercontent.com/brmprnk/LB2292/refs/heads/main/module1/img/area_under_normal.bmp) |\n",
        "|:--:|\n",
        "| **Figure 2**: The area under the PDF of a normal distribution with mean $0$ and standard deviation $1$ from $-2.0$ to $0.2$.|"
      ]
    },
    {
      "cell_type": "markdown",
      "metadata": {
        "id": "PZ9UN6K_SnSC"
      },
      "source": [
        "\n",
        "---\n",
        "\n",
        "#### ✏ Exercise 1\n",
        "\n",
        "> The total area under a PDF is, however, always 1. Why is that?\n",
        "\n",
        "Write your answer below in [markdown](https://www.markdownguide.org/basic-syntax/), or upload a photo/scan of your handwritten solution.\n",
        "\n",
        "**SOLUTION:**\n",
        "\n",
        "<font color = 'pink'>Because probability is defined between 0 and 1, the total area under a PDF is 1 <font>\n",
        "\n",
        "\n",
        "---"
      ]
    },
    {
      "cell_type": "markdown",
      "metadata": {
        "id": "cnBODG9hSnSC"
      },
      "source": [
        "### The Normal Distribution - Cumulative distribution function\n",
        "\n",
        "For every distribution we can also define a Cumulative Distribution Function (CDF). The value of the CDF at point $x$, $𝐶𝐷𝐹(𝑥)$, corresponds to the area under the PDF until $x$ by definition, or in other words $𝐶𝐷𝐹(𝑥) = 𝑃(𝑋 \\leq 𝑥)$. Figure 3a shows some examples of the CDF(x) and Figure 3b shows the complete CDF for the normal distribution. Note that the CDF values in Figure 3b match the areas of Figure 3a.\n",
        "\n",
        "| ![Several areas under PDF compared to CDF](https://raw.githubusercontent.com/brmprnk/LB2292/refs/heads/main/module1/img/areas_vs_cdf.png) |\n",
        "|:--:|\n",
        "| **Figure 3**: (a) The area under the PDF of a normal distribution with mean $0$ and standard deviation $$ up until the points $-2$, $-1$, $0$ and $1$. (b) The CDF of a normal distribution with mean $0$ and standard deviation $1$. |"
      ]
    },
    {
      "cell_type": "markdown",
      "metadata": {
        "id": "kPbQMxZrMAJp"
      },
      "source": [
        "\n",
        "---\n",
        "\n",
        "#### ✏ Exercise 2\n",
        "\n",
        "> How would you calculate $𝑃(−2 ≤𝑋≤0.2)$ from the $CDF(x)$?\n",
        "\n",
        "Write your answer below in [markdown](https://www.markdownguide.org/basic-syntax/), or upload a photo/scan of your handwritten solution.\n",
        "\n",
        "**SOLUTION:**\n",
        "\n",
        "<font color='pink'>\n",
        "$𝑃(−2 ≤𝑋≤0.2)$ = $𝑃(X≤0.2)$ - $𝑃(X≤-2)$ <br>\n",
        "Expressed in $CDF(x)$:\n",
        "$𝐶𝐷𝐹(𝑥) = 𝑃(𝑋 \\leq 𝑥)$ <br>\n",
        "$𝑃(−2 ≤𝑋≤0.2)$ = $CDF(0.2) - CDF(-2)$\n",
        "\n",
        "\n",
        "---"
      ]
    },
    {
      "cell_type": "markdown",
      "metadata": {
        "id": "WYpDwac8SnSD"
      },
      "source": [
        "### 1-sided p-value\n",
        "\n",
        "Now, let’s calculate a p-value!\n",
        "The p-value of a Z-statistic is defined as follows:<font color='pink'> \"the probability of observing a Z-statistic **at least as extreme** as the one observed in the data in case the **null hypothesis is true**\".</font> To understand what this means, assume we measure the expression of a gene in some patients. We know that normally the average of the expression of that gene is $80$ and the standard deviation equals $10$. If the expression of the gene for patients is not different than normal, we would expect that for patients the average expression of the gene is also $80$. In fact, this is our _null hypothesis_: \"The average expression of the gene in the patients equals the known average expression in normal cases which equals $80$ and has a standard deviation of 10\". Which we can also state as follows:\n",
        "\n",
        "$$ H_0 \\text{: average expression in patients } = 80 $$\n",
        "\n",
        "After measuring the expression across $25$ patients we find an average of $82$. The question now is how this deviate from the expected? Is the different with the normal average expression of $80$ unexpectedly large? This in fact, is out alternative hypothesis, or $H_1$ hypothesis:\n",
        "\n",
        "$$ H_1 \\text{: average expression in patients } > 80 $$\n",
        "\n",
        "The z-statistic can be used to calculate how large the difference between the observed average expression is with respect to the expected average expression based on our knowledge, which is defined as:\n",
        "\n",
        "$$ Z = \\frac{\\text{mean of observed values } - \\text{ mean in normal cases}}{\n",
        "    \\sqrt{\\frac{\\text{variance in normal cases}}{\\text{number of observations}}}} $$"
      ]
    },
    {
      "cell_type": "markdown",
      "metadata": {
        "id": "iQWbDUiQSnSD"
      },
      "source": [
        "\n",
        "---\n",
        "\n",
        "#### ✏ Exercise 3\n",
        "\n",
        "> Show that Z-statistic for the example equals 1.\n",
        "\n",
        "Write your answer below in [markdown](https://www.markdownguide.org/basic-syntax/), or upload a photo/scan of your handwritten solution.\n",
        "\n",
        "**SOLUTION:**\n",
        "<font color = 'pink'>\n",
        "Z = $\\frac{(82 - 80)}{\\sqrt{\\frac{10^2}{25}}}$ = $\\frac{2}{2}$ = 1\n",
        "\n",
        "\n",
        "\n",
        "\n",
        "---"
      ]
    },
    {
      "cell_type": "markdown",
      "metadata": {
        "id": "ojtKhy1DSnSD"
      },
      "source": [
        "The z-statistic tells us what we would expect for the mean of observed expression values when we do a certain number of observations GIVEN that the expression values are indeed normal. Realize that in case the expression values are indeed normal, if we calculate the average of a certain number of observations this will never be exactly equal to the expected value (of $80$ in our case). But there will be small random variations, and it is exactly those variations that are represented by the distribution of the z-statistic. By design, the distribution of these z-statistics exactly equals a normal distribution $N(0, 1)$ as shown in Figure 1.\n",
        "\n",
        "To answer whether the mean of observed expression values in patients is unexpectedly large, we are thus interested in how probable it is to measure difference with the model mean as large as we observed, i.e. the probability that we observe a Z-statistic is as large as we observed, in our case: $P(Z \\geq 1)$. This we have defined as the p-value: \"the chance to observe a similar mean as in our data or more extreme when the null-hypothesis is true\". For our example: $\\text{p-value} = P(Z \\geq 1)$.\n",
        "\n",
        "How do we calculate the p-value for our example, i.e. how do we calculate $P(Z \\geq 1)$? Realize that the Z-statistic is normally distributed, so we know the PDF and CDF of $Z$. Also realize that the total are under the PDF equals $1$. Then $P(Z \\geq 1) = 1 - P(Z \\leq 1)$. But remember $CDF(z) = P(Z \\leq z)$. Therefore:\n",
        "\n",
        "$$ \\text{p-value} = P(Z \\geq 1) = 1 - CDF(1) $$\n",
        "\n",
        "Look at Figure 4 and make sure you understand why the above is true.\n",
        "\n",
        "\n",
        "| ![P-value for Z=1](https://raw.githubusercontent.com/brmprnk/LB2292/refs/heads/main/module1/img/z_stat_1.jpg) |\n",
        "|:--:|\n",
        "| **Figure 4**: Graphical representation of the p-value for a Z-statistic of 1. |\n",
        "\n",
        "\n",
        "This function is also defined as the Survival Function (SF), i.e. :\n",
        "\n",
        "$$ SF(x) = 1 - CDF(x) $$\n",
        "\n",
        "The CDF and SF of the Normal distribution are plotted in Figure 5:\n",
        "\n",
        "\n",
        "\n",
        "| ![CDF compared to SF](https://raw.githubusercontent.com/brmprnk/LB2292/refs/heads/main/module1/img/cdf_sf.jpg) |\n",
        "|:--:|\n",
        "| **Figure 5**: The CDF (red) and the SF (green) of a normal distribution with mean 0 and standard deviation $1$. |\n",
        "\n",
        "\n",
        "\n",
        "The p-value for our example is $SF(1) = 0.159$ (see Figure 4).\n",
        "\n",
        "This means that there is a probability of about $16\\%$ that we indeed measure a mean of $82$ or higher when we do $25$ observations, assuming that the expression of the gene is indeed normal. In this case we are tempted to conclude that this is not an unexpectedly large difference. When this p-value becomes very small this implies that the probability that we observe that particular average becomes very unlikely when assuming the expression is normal. Hence, for very small p-values we will conclude that we want to \"reject the null hypothesis\". But what is _very small_? Typically, scientists consider that a p-value is small enough if it is less than $\\alpha = 0.05$. This $\\alpha$ is also called the \"confidence level\" or \"significance level\". Thus, in our case we can NOT significantly reject the null hypothesis, as our p-value $= 0.159$, which is larger than $0.05$.\n",
        "\n",
        "**Caution**: This does not mean that the null hypothesis is necessarily correct. We just don't have enough evidence against it. Also, this does not mean that the null hypothesis has a probability of $(1 - 0.159) = 0.841$ of being true.\n",
        "\n",
        "In our example we wanted to know whether the observed average expression is unexpectedly larger than the model mean. We could have as well observed an average expression smaller than the expected mean, say $78$. In that case we are interested whether this observation is unexpectedly smaller than $80$, the expected average. Or in other words, the alternative hypothesis would be:\n",
        "\n",
        "$$ H_1 \\text{: average expression in patients } < 80 $$\n",
        "\n",
        "Again, we can use the Z-statistic to calculate how unexpected this observation is. First, we need to calculate the Z-statistic."
      ]
    },
    {
      "cell_type": "markdown",
      "metadata": {
        "id": "fnadEJoiSnSD"
      },
      "source": [
        "\n",
        "---\n",
        "\n",
        "#### ✏ Exercise 4\n",
        "\n",
        "> Show that the Z-statistic in this case equals $-1$.\n",
        "\n",
        "Write your answer below in [markdown](https://www.markdownguide.org/basic-syntax/), or upload a photo/scan of your handwritten solution.\n",
        "\n",
        "**SOLUTION:**\n",
        "<font color = 'pink'>\n",
        "$$ Z = \\frac{\\text{mean of observed values } - \\text{ mean in normal cases}}{\n",
        "    \\sqrt{\\frac{\\text{variance in normal cases}}{\\text{number of observations}}}}$$ <br>\n",
        "Assuming N is again 25 <br>\n",
        "\n",
        "<font color = 'pink'>\n",
        "$$ Z = \\frac{78 - 80}{\n",
        "    \\sqrt{\\frac{10^2}{25}}}  = -1 $$\n",
        "<font>"
      ]
    },
    {
      "cell_type": "markdown",
      "metadata": {
        "id": "gLLIzczcSnSD"
      },
      "source": [
        "To say how unexpected this value is, we need to know the probability of observing that Z-statistic or smaller given that the average expression is normal: i.e. $\\text{p-value} = P(Z \\leq -1)$. Note that in this case we are looking for Z-statistic values **smaller** than $-1$, whereas earlier we were looking for Z-statistics **larger** than $1$. This has to do with the fact that we are testing a different alternative hypothesis! To calculate this p-value we should then not use the survival function $SF(z)$, but the cumulative distribution function $CDF(z)$ which was defined as $P(Z \\leq z)$. Alternatively, because the Z-statistic is symmetric around zero (see Figure 1), we can also get the p-value using the survival function for the **absolute** value of $z$: p-value $= SF(|Z|)$.\n",
        "\n",
        "### 2-sided p-value\n",
        "\n",
        "In the previous example, we had good reasons to suspect that the gene would be overexpressed in patients compared to the expected average. In many cases, however, we don't know in advance if the difference will be positive of negative and we just want to see if there is any difference with the expected average. In that case we are thus interested in whether the observed average is unexpectedly **larger OR smaller** than the expected average. The alternative hypothesis then becomes:\n",
        "\n",
        "$$ H_1 \\text{: average expression in patients } \\neq 80 $$\n",
        "\n",
        "Let us return to our initial example where we observed an average expression of $82$ in $25$ patients and got a Z-statistic of $1$. Before, we were only interested in Z-statistics at least as large as the observed one ($P(Z \\geq 1)$). But, given our alternative hypothesis, we now need to include also deviations of the expected average that are equivalently smaller than the observed Z-statistic. That is, given the null hypothesis, how likely is it that we observe this difference with th expected mean? This includes Z-statistic values larger than $1$, or smaller than $-1$. Given this alternative hypothesis our p-value becomes:\n",
        "\n",
        "$$ \\text{p-value} = P(Z \\leq -1 \\text{ OR } Z \\geq 1) = P(Z \\leq -1) + P(Z \\geq 1) $$\n",
        "\n",
        "In other words, we are interested in the area under the PDF as shown in Figure 6. This is called a two-sided p-value, because we calculate areas on both the negative and the positive side of the PDF. Thi sarea can easily be calculated using the CDF and SF:\n",
        "\n",
        "$$ \\text{p-value} = P(Z \\leq -1) + P(Z \\geq 1) = CDF(-1) + SF(1) $$\n",
        "\n",
        "Or only with the SF:\n",
        "\n",
        "\n",
        "$$ \\text{p-value} = P(Z \\leq -1) + P(Z \\geq 1) = SF(|-1|) + SF(1) = 2 \\times SF(1) $$\n",
        "\n",
        "| ![Two-sided p-value for Z=-1 and Z=1](https://raw.githubusercontent.com/brmprnk/LB2292/refs/heads/main/module1/img/two_sided.jpg) |\n",
        "|:--:|\n",
        "| **Figure 6**: Graphical representation of the two-sided p-value for a Z-statistic of $-1$ and $1$. Each of the two red-shaded areas has an area of $0.159$ |"
      ]
    },
    {
      "cell_type": "markdown",
      "metadata": {
        "id": "UOAR7AKESnSD"
      },
      "source": [
        "\n",
        "---\n",
        "\n",
        "#### ✏ Exercise 5\n",
        "\n",
        "> What is the p-value for the given example (observed average of $82$ in $25$ patients) when considering the two-sided alternative hypothesis. And is this observation significantly extreme?\n",
        "\n",
        "Write your answer below in [markdown](https://www.markdownguide.org/basic-syntax/), or upload a photo/scan of your handwritten solution.\n",
        "\n",
        "**SOLUTION**:\n",
        "\n",
        "<font color = 'pink'>\n",
        "The p-value is given in figure 6 and is the marked area under the graph $p = 0.318$.<br>\n",
        " If $\\alpha = 0.05$ then $p > 0.05$ and thus the observation is not significantly extreme\n",
        "\n",
        "---"
      ]
    },
    {
      "cell_type": "markdown",
      "metadata": {
        "id": "QbjNZwcCSnSD"
      },
      "source": [
        "## Overview of statistical tests and corresponding Python function\n",
        "\n",
        "We have now seen how to calculate a one-sided and two-sided p-value for a 1-sample Z-test. Similarly, you can calculate one/two-sided p-values for the other tests covered in the lecture, such as the two-sample Z-test, or two-sampled t-test. The table below gives you the covered statistical tests and their names in Python.\n",
        "\n",
        "| Data                     | 1 Group                |                             | 2 Groups - Paired      |                           | 2 Groups - Not paired        |                            |\n",
        "|--------------------------|------------------------|-----------------------------|------------------------|---------------------------|------------------------------|----------------------------|\n",
        "|                          | Test name              | Python function             | Test name              | Python function           | Test name                    | Python function            |\n",
        "| Normal, known variance   | 1-sample Z-test        | `LST_Functions.ztest_1samp` | 2-sample paired Z-test | `LST_Functions.ztest_rel` | 2-sample unpaired Z-test     | `LST_Functions.ztest_ind`  |\n",
        "| Normal, unknown variance | 1-sample t-test        | `scipy.stats.ttest_1samp`   | 2-sample paired t-test | `scipy.stats.ttest_rel`   | 2-sample unpaired t-test     | `scipy.stats.ttest_ind`    |\n",
        "| Not normal               | 1-sample rank-sum test | N/A                         | Wilcoxon rank-sum test | `scipy.stats.wilcoxon`    | Mann-Whitney U rank-sum test | `scipy.stats.mannwhitneyu` |"
      ]
    },
    {
      "cell_type": "markdown",
      "metadata": {
        "id": "IkbnogLvFRfh"
      },
      "source": [
        "## **Z-test**\n",
        "Now, we will have a look at a microarray gene expression data of **38** leukemia patients, collected by Golub et al. [[Golub TR et al., Science 1999](https://proteome.gs.washington.edu/classes/Genome372/Readings/Golub%20et%20al%20Science%201999.pdf)]. In this data set, **27** patients are diagnosed with acute lymphoblastic leukemia (ALL) and **11** with acute myeloid leukemia (AML). The log10-transformed expression of 3051 genes across the 38 patients is stored in golub.pkl, a dictionary with three variables: (1) data is the 3051×38 expression matrix, (2) names is a vector of gene symbols, and (3) labels is a vector of class labels with 0 corresponding to ALL and 1 corresponding to AML.\n",
        "\n",
        "\n",
        "Start by running the following code to download and import the data set."
      ]
    },
    {
      "cell_type": "code",
      "execution_count": 2,
      "metadata": {
        "id": "5gX_DqNuALB0",
        "colab": {
          "base_uri": "https://localhost:8080/"
        },
        "outputId": "e11797e1-d95d-425f-c768-24c77c2ba4eb"
      },
      "outputs": [
        {
          "output_type": "stream",
          "name": "stdout",
          "text": [
            "--2025-02-16 10:17:01--  https://raw.githubusercontent.com/brmprnk/LB2292/main/golub.pkl\n",
            "Resolving raw.githubusercontent.com (raw.githubusercontent.com)... 185.199.110.133, 185.199.111.133, 185.199.108.133, ...\n",
            "Connecting to raw.githubusercontent.com (raw.githubusercontent.com)|185.199.110.133|:443... connected.\n",
            "HTTP request sent, awaiting response... 200 OK\n",
            "Length: 7640109 (7.3M) [application/octet-stream]\n",
            "Saving to: ‘golub.pkl’\n",
            "\n",
            "golub.pkl           100%[===================>]   7.29M  --.-KB/s    in 0.1s    \n",
            "\n",
            "2025-02-16 10:17:01 (54.4 MB/s) - ‘golub.pkl’ saved [7640109/7640109]\n",
            "\n",
            "--2025-02-16 10:17:02--  https://raw.githubusercontent.com/brmprnk/LB2292/main/LST_Functions.py\n",
            "Resolving raw.githubusercontent.com (raw.githubusercontent.com)... 185.199.111.133, 185.199.109.133, 185.199.110.133, ...\n",
            "Connecting to raw.githubusercontent.com (raw.githubusercontent.com)|185.199.111.133|:443... connected.\n",
            "HTTP request sent, awaiting response... 200 OK\n",
            "Length: 15367 (15K) [text/plain]\n",
            "Saving to: ‘LST_Functions.py’\n",
            "\n",
            "LST_Functions.py    100%[===================>]  15.01K  --.-KB/s    in 0.001s  \n",
            "\n",
            "2025-02-16 10:17:02 (18.6 MB/s) - ‘LST_Functions.py’ saved [15367/15367]\n",
            "\n"
          ]
        }
      ],
      "source": [
        "# Download the datasets\n",
        "!wget -nc https://raw.githubusercontent.com/brmprnk/LB2292/main/golub.pkl\n",
        "!wget -nc https://raw.githubusercontent.com/brmprnk/LB2292/main/LST_Functions.py"
      ]
    },
    {
      "cell_type": "code",
      "execution_count": 3,
      "metadata": {
        "id": "ypUagrJvSnSE"
      },
      "outputs": [],
      "source": [
        "# If that doesn't work locally in windows (so not in Google Colab), try this:\n",
        "# !curl -o golub.pkl https://raw.githubusercontent.com/brmprnk/LB2292/main/golub.pkl\n",
        "# !curl -o LST_Functions.py https://raw.githubusercontent.com/brmprnk/LB2292/main/LST_Functions.py"
      ]
    },
    {
      "cell_type": "code",
      "execution_count": 4,
      "metadata": {
        "id": "ysJl26vJSnSE"
      },
      "outputs": [],
      "source": [
        "# Import the necessary libraries\n",
        "import numpy as np\n",
        "import pickle\n",
        "import scipy.stats as stats\n",
        "import matplotlib.pyplot as plt\n",
        "\n",
        "from LST_Functions import ztest_1samp\n",
        "\n",
        "# Read data\n",
        "with open('golub.pkl', 'rb') as f:\n",
        "\tdatadict = pickle.load(f)\n",
        "\n",
        "data = datadict['data']\n",
        "genes = datadict['genes']\n",
        "labels = datadict['labels']"
      ]
    },
    {
      "cell_type": "markdown",
      "metadata": {
        "id": "HLFKDUkIFksl"
      },
      "source": [
        "In this exercise you need to write Python code to calculate the Z-statistic and the associated p-value (using only basic functions).\n",
        "\n",
        "#### ✏ Exercise 6\n",
        "\n",
        "> Calculate the Z-statistic and the corresponding p-value to test the hypothesis that the average expression of gene Gdf5 (the 2058'th gene, so row index 2057) in the ALL samples is different from zero. Assume that the standard deviation σ is equal to 0.25. Is the average expression of Gdf5 in ALL samples significantly different from zero (using a significance level of 0.05)?\n",
        ">\n",
        "> Hint: You can use `stats.norm.sf` to calculate the p-value associated with the z-score. Look up the [documentation online](https://docs.scipy.org/doc/scipy/reference/generated/scipy.stats.norm.html) or type `st.norm.sf?` to understand how to use this function.\n",
        ">\n",
        "> Hint: Since Python array indices start counting at 0, we have to select index $2057$ for the $2058$'th gene."
      ]
    },
    {
      "cell_type": "code",
      "execution_count": 5,
      "metadata": {
        "id": "HUyHNQdDPZyz",
        "colab": {
          "base_uri": "https://localhost:8080/"
        },
        "outputId": "2d683477-3c63-4c00-ed68-32752f473537"
      },
      "outputs": [
        {
          "output_type": "stream",
          "name": "stdout",
          "text": [
            "expression data of Gdf5 for the ALL samples totals 27\n",
            "Z = 0.0011162105204333245\n",
            "two sided p = 0.9991093930440789\n",
            "observed data is NOT statistically significant\n"
          ]
        }
      ],
      "source": [
        "# set the index of gene Gdf5 (it is the 2058th row, but we start from 0)\n",
        "gene_idx = 2057\n",
        "\n",
        "# get the expression data of Gdf5\n",
        "gfd5_expr = data[gene_idx]\n",
        "\n",
        "# obtain the labels of each class\n",
        "ALL = np.where(labels == 0)[0]\n",
        "AML = np.where(labels == 1)[0]\n",
        "\n",
        "# SOLUTION:\n",
        "from scipy.stats import norm\n",
        "\n",
        "#variables\n",
        "null_mean = 0\n",
        "sigma = 0.25\n",
        "alpha = 0.05\n",
        "\n",
        "#find the expression data of Gdf5 for the ALL samples\n",
        "gfd5_expr[ALL]\n",
        "N = len(gfd5_expr[ALL])\n",
        "\n",
        "#check if this totals 27\n",
        "if N == 27:\n",
        "  print('expression data of Gdf5 for the ALL samples totals 27')\n",
        "else:\n",
        "  print('something went wrong with retrieving the data')\n",
        "\n",
        "\n",
        "#calculate observed mean\n",
        "obs_mean = sum(gfd5_expr[ALL])/N\n",
        "\n",
        "#calculate Z\n",
        "Z = (obs_mean -null_mean)/(sigma**2/N)**0.5\n",
        "print('Z =',Z)\n",
        "\n",
        "#calculate p\n",
        "p = stats.norm.sf(x=Z)\n",
        "p2 = p*2\n",
        "print('two sided p =',p2)\n",
        "\n",
        "#check significance\n",
        "if p2 < alpha:\n",
        "  print('observed data is statistically significant')\n",
        "else:\n",
        "  print('observed data is NOT statistically significant')\n",
        "\n"
      ]
    },
    {
      "cell_type": "markdown",
      "metadata": {
        "id": "XAJDEWxQF-e_"
      },
      "source": [
        "#### ✏ Exercise 7\n",
        "\n",
        "> Use the `ztest_1samp` function from `LST_Functions` package to calculate the p-value for the same test. Type `ztest_1samp?` to find out how to call it. Do you get the same results?"
      ]
    },
    {
      "cell_type": "code",
      "execution_count": 6,
      "metadata": {
        "id": "Z_YBpk4rab0R",
        "colab": {
          "base_uri": "https://localhost:8080/"
        },
        "outputId": "da4a7789-d706-4d80-e62c-067011a9a062"
      },
      "outputs": [
        {
          "output_type": "stream",
          "name": "stdout",
          "text": [
            "Z = 0.00111621052043341\n",
            "two-sided p = 0.9991093930440789\n",
            "the calculated Z values are VERY similar.\n",
            "The p-values are the same\n"
          ]
        }
      ],
      "source": [
        "# SOLUTION:\n",
        "\n",
        "# Use the function ztest_1samp\n",
        "ztest = ztest_1samp(gfd5_expr[ALL], null_mean, sigma, alternative ='two-sided')\n",
        "print('Z =',ztest[0])\n",
        "print('two-sided p =',ztest[1])\n",
        "\n",
        "\n",
        "print('the calculated Z values are VERY similar.')\n",
        "\n",
        "if ztest[1] == p2:\n",
        "  print('The p-values are the same')"
      ]
    },
    {
      "cell_type": "markdown",
      "metadata": {
        "id": "5IPYp47PG0IS"
      },
      "source": [
        "## T-test\n",
        "\n",
        "In the previous exercise, we assumed we knew the standard deviation. In practice, we rarely know it. In that case, we can estimate the true standard deviation from our samples and use the t-test. In this exercise you need to write Python code to calculate the t-statistic and the\n",
        "associated p-value (using only basic functions). You can use `stats.t.sf` to calculate the p-value associated with the t-statistic. Remember that all variables from previous exercises are still stored in new code blocks (so no new mean needs to be calculated).\n",
        "\n",
        "#### ✏ Exercise 8\n",
        "\n",
        "> Perform a one-sample t-test to test the null hypothesis that the average expression of gene CCND3 (row index 1041) in the ALL samples is zero. Can you reject the null hypothesis using a significance level of 0.05?"
      ]
    },
    {
      "cell_type": "code",
      "execution_count": 7,
      "metadata": {
        "id": "qwkdsa7NWCHs",
        "colab": {
          "base_uri": "https://localhost:8080/"
        },
        "outputId": "a6816208-6d22-4296-e785-3550a780ad73"
      },
      "outputs": [
        {
          "output_type": "stream",
          "name": "stdout",
          "text": [
            "expression data of CCND3 for the ALL samples totals 27\n",
            "t = 2.8539790145127637\n",
            "two sided p = 0.008364042837640298\n",
            "observed data is statistically significant and the null hypothesis CAN be rejected\n"
          ]
        }
      ],
      "source": [
        "# SOLUTION:\n",
        "# set the index of gene CCND3 (it is the 1041th row, but we start from 0)\n",
        "gene_idx = 1040\n",
        "\n",
        "# get the expression data of CCND3\n",
        "CCND3_expr = data[gene_idx]\n",
        "\n",
        "# obtain the labels of each class\n",
        "ALL = np.where(labels == 0)[0]\n",
        "AML = np.where(labels == 1)[0]\n",
        "\n",
        "CCND3_ALL = CCND3_expr[ALL]\n",
        "N = len(CCND3_expr[ALL])\n",
        "\n",
        "#check if this totals 27\n",
        "if N == 27:\n",
        "  print('expression data of CCND3 for the ALL samples totals 27')\n",
        "else:\n",
        "  print('something went wrong with retrieving the data')\n",
        "\n",
        "#calculate observed mean\n",
        "obs_mean = sum(CCND3_ALL)/N\n",
        "\n",
        "#estimate sigma\n",
        "numerator = sum((CCND3_ALL-obs_mean)**2)\n",
        "sigma = (numerator/(N-1))**0.5\n",
        "\n",
        "#calculate t\n",
        "t = (obs_mean -null_mean)/((sigma**2/N)**0.5)\n",
        "print('t =',t)\n",
        "\n",
        "#calculate df\n",
        "d_f=N-1\n",
        "\n",
        "#calculate p\n",
        "p = stats.t.sf(x=t, df=d_f)\n",
        "p2 = p*2\n",
        "print('two sided p =',p2)\n",
        "\n",
        "\n",
        "#check significance\n",
        "if p2 < alpha:\n",
        "  print('observed data is statistically significant and the null hypothesis CAN be rejected')\n",
        "else:\n",
        "  print('observed data is NOT statistically significant and the null hypothesis CANNOT be rejected')\n",
        "\n"
      ]
    },
    {
      "cell_type": "markdown",
      "metadata": {
        "id": "2eH6mzKiSnSF"
      },
      "source": [
        "\n",
        "---\n",
        "\n",
        "#### ✏ Exercise 9\n",
        "\n",
        "> Calculate the t-statistic and corresponding p-value using the Python function `stats.ttest_1samp`. Do you obtain similar results?"
      ]
    },
    {
      "cell_type": "code",
      "execution_count": 8,
      "metadata": {
        "id": "KiFB05cGZYfy",
        "colab": {
          "base_uri": "https://localhost:8080/"
        },
        "outputId": "614e0d0c-6114-4d30-a0b4-ae37eb994b2a"
      },
      "outputs": [
        {
          "output_type": "stream",
          "name": "stdout",
          "text": [
            "t = 2.853979014512764\n",
            "two sided p = 0.008364042837640287\n",
            "The calculated t and pvalues are very similar\n"
          ]
        }
      ],
      "source": [
        "# SOLUTION:\n",
        "ttest = stats.ttest_1samp(CCND3_ALL, null_mean, alternative ='two-sided')\n",
        "\n",
        "print('t =',ttest[0])\n",
        "print('two sided p =',ttest[1])\n",
        "\n",
        "print('The calculated t and pvalues are very similar')"
      ]
    },
    {
      "cell_type": "markdown",
      "metadata": {
        "id": "X-i1NKrLSnSF"
      },
      "source": [
        "\n",
        "---\n",
        "\n",
        "#### ✏ Exercise 10\n",
        "\n",
        "> Use the t-test to find how many genes have a significantly different average expression in the ALL samples compared to the AML samples (using a significance level of 0.05). Assume unequal variances.\n",
        ">\n",
        "> Hint: Use the two-sample t-test function `stats.ttest_ind`."
      ]
    },
    {
      "cell_type": "code",
      "execution_count": 9,
      "metadata": {
        "colab": {
          "base_uri": "https://localhost:8080/"
        },
        "outputId": "ffcfdee4-f909-4250-d6c1-f8ef3391a9df",
        "id": "Ks9ftCEGyilm"
      },
      "outputs": [
        {
          "output_type": "stream",
          "name": "stdout",
          "text": [
            "Amount of significant genes: 1077\n"
          ]
        }
      ],
      "source": [
        "# Solution\n",
        "\n",
        "#variables\n",
        "totalgenes = 3050\n",
        "alpha = 0.05\n",
        "gene_idx = 0\n",
        "tgene_sig_count = 0\n",
        "\n",
        "for gene_idx in range(totalgenes):\n",
        "  gene_expr = data[gene_idx]\n",
        "  gene_ALL = gene_expr[ALL] #sort ALL and AML data\n",
        "  gene_AML = gene_expr[AML]\n",
        "\n",
        "  ttest = stats.ttest_ind(gene_ALL, gene_AML, equal_var=False, alternative='two-sided')\n",
        "  ttest_p = ttest[1] #Perform two-sided, two-sample t-test with unequal variances\n",
        "\n",
        "  if ttest_p < alpha: #find significant p-values\n",
        "    tgene_sig_count += 1\n",
        "\n",
        "print('Amount of significant genes:',tgene_sig_count)"
      ]
    },
    {
      "cell_type": "markdown",
      "metadata": {
        "id": "d-dFp242BYIG"
      },
      "source": [
        "## Permutation Testing"
      ]
    },
    {
      "cell_type": "markdown",
      "metadata": {
        "id": "n7c6DTKmSnSF"
      },
      "source": [
        "\n",
        "#### ✏ Exercise 11\n",
        "\n",
        "> The following code is used to test if gene CCND3 (row index 1041) is differentially expressed between the ALL and AML samples. Fill in the missing parts of the code to calculate the permutation-based p-value.\n",
        ">\n",
        "> Hint: If you set the number of permutations to high number, this may take a couple of minutes to run, so only do this for your final answer."
      ]
    },
    {
      "cell_type": "code",
      "execution_count": 49,
      "metadata": {
        "id": "6a_Zjxq5BoIM",
        "colab": {
          "base_uri": "https://localhost:8080/",
          "height": 448
        },
        "outputId": "4d9082a0-1766-43d8-f229-242f4c6470ac"
      },
      "outputs": [
        {
          "output_type": "display_data",
          "data": {
            "text/plain": [
              "<Figure size 640x480 with 1 Axes>"
            ],
            "image/png": "[encoded data removed]"
          },
          "metadata": {}
        },
        {
          "output_type": "stream",
          "name": "stdout",
          "text": [
            "the permuation p-value is  0.0072\n"
          ]
        }
      ],
      "source": [
        "# SOLUTION:\n",
        "\n",
        "# Complete the below code by replacing the ??? to answer the exercise\n",
        "original_tstat = 2.853979014512764\n",
        "gene_idx = 1040\n",
        "\n",
        "#select the number of permutations\n",
        "nperm = 10000\n",
        "\n",
        "#this is where the permuted t scores will be stored\n",
        "rand_tstat = np.zeros((nperm,))\n",
        "\n",
        "for i in range(nperm):\n",
        "\t#generate a new (random) label vector\n",
        "\tpermutedLabels = np.random.permutation(labels)\n",
        "\n",
        "\t#find the indices of the ALL and AML samples\n",
        "\trandALL = np.where(permutedLabels == 0)[0]\n",
        "\trandAML = np.where(permutedLabels == 1)[0]\n",
        "\n",
        "\t#extract  the random samples from the original data\n",
        "\trALL = data[gene_idx, randALL]\n",
        "\trAML = data[gene_idx, randAML]\n",
        "\n",
        "\t#calculate the t-statistic between rALL and rAML for iteration i\n",
        "\tttest = stats.ttest_ind(rALL, rAML, equal_var=False, alternative='two-sided')\n",
        "\trand_tstat[i] = ttest[0]\n",
        "\n",
        "#plot the histogram of the t-statistics you calculated\n",
        "plt.hist(rand_tstat, edgecolor='k')\n",
        "plt.axvline(original_tstat, c='r', linewidth=3)\n",
        "\n",
        "plt.show()\n",
        "\n",
        "# #times t* >= t\n",
        "count = 0\n",
        "for i in range(nperm):\n",
        "\tif np.abs(rand_tstat[i]) >= original_tstat:\n",
        "\t\tcount += 1\n",
        "\n",
        "#find p-value\n",
        "perm_pvalue = count/nperm\n",
        "print('the permuation p-value is ',perm_pvalue)\n"
      ]
    },
    {
      "cell_type": "markdown",
      "metadata": {
        "id": "xMlvUngs9SsM"
      },
      "source": [
        "## Rank-sum test\n",
        "\n",
        "Use the rank-sum test to determine if the average expression of a gene in the ALL samples is different from the average expression of the same gene in the AML samples."
      ]
    },
    {
      "cell_type": "markdown",
      "metadata": {
        "id": "busMhF-GSnSF"
      },
      "source": [
        "\n",
        "---\n",
        "\n",
        "#### ✏ Exercise 12\n",
        "\n",
        "> How many genes are differentially expressed between the ALL and AML samples using significance level of 0.05?  Use the function `stats.mannwhitneyu`."
      ]
    },
    {
      "cell_type": "code",
      "execution_count": 10,
      "metadata": {
        "id": "L7QaeElTCz9b",
        "colab": {
          "base_uri": "https://localhost:8080/"
        },
        "outputId": "798d8e40-a560-425d-be44-8ec450cd5764"
      },
      "outputs": [
        {
          "output_type": "stream",
          "name": "stdout",
          "text": [
            "Amount of significant genes: 1054\n"
          ]
        }
      ],
      "source": [
        "# SOLUTION:\n",
        "\n",
        "#variables\n",
        "gene_sig_count = 0\n",
        "\n",
        "for gene_idx in range(totalgenes):\n",
        "  gene_expr = data[gene_idx]\n",
        "  gene_ALL = gene_expr[ALL] #sort ALL and AML data\n",
        "  gene_AML = gene_expr[AML]\n",
        "\n",
        "  ranksumtest = stats.mannwhitneyu(gene_ALL, gene_AML, use_continuity=True, alternative='two-sided')\n",
        "  ranksum_p = ranksumtest[1] #perform ranksum test\n",
        "  if ranksum_p < alpha: #find significant p-values\n",
        "    gene_sig_count += 1\n",
        "\n",
        "print('Amount of significant genes:',gene_sig_count)"
      ]
    },
    {
      "cell_type": "markdown",
      "metadata": {
        "id": "SU6Y9H4dSnSG"
      },
      "source": [
        "\n",
        "---\n",
        "\n",
        "#### ✏ Exercise 13\n",
        "\n",
        "> How many genes overlap between those found significant by the t-test and the rank-sum test? Use `np.intersect1d` to determine the overlap."
      ]
    },
    {
      "cell_type": "code",
      "execution_count": 11,
      "metadata": {
        "id": "WqcuAmDWC7VG",
        "colab": {
          "base_uri": "https://localhost:8080/"
        },
        "outputId": "d317e5a7-6d33-4973-f423-2b35a82a4793"
      },
      "outputs": [
        {
          "output_type": "stream",
          "name": "stdout",
          "text": [
            "963\n"
          ]
        }
      ],
      "source": [
        "# SOLUTION:\n",
        "\n",
        "#variables\n",
        "overlap_count = 0\n",
        "\n",
        "for gene_idx in range(totalgenes):\n",
        "  gene_expr = data[gene_idx]\n",
        "  gene_ALL = gene_expr[ALL] #sort ALL and AML data\n",
        "  gene_AML = gene_expr[AML]\n",
        "\n",
        "  ttest = stats.ttest_ind(gene_ALL, gene_AML, equal_var=False, alternative='two-sided')\n",
        "  ttest_p = ttest[1] #Perform two-sided, two-sample t-test with unequal variances\n",
        "\n",
        "  ranksumtest = stats.mannwhitneyu(gene_ALL, gene_AML, use_continuity=True, alternative='two-sided')\n",
        "  ranksum_p = ranksumtest[1] #perform ranksum test\n",
        "\n",
        "  if ranksum_p < alpha and ttest_p < alpha: #find significant p-values\n",
        "    overlap_count +=1\n",
        "\n",
        "print(overlap_count)\n"
      ]
    }
  ],
  "metadata": {
    "colab": {
      "provenance": [],
      "collapsed_sections": [
        "Bg7LOB8TSnSC",
        "cnBODG9hSnSC",
        "WYpDwac8SnSD",
        "iQWbDUiQSnSD",
        "IkbnogLvFRfh",
        "5IPYp47PG0IS",
        "d-dFp242BYIG",
        "xMlvUngs9SsM"
      ],
      "include_colab_link": true
    },
    "kernelspec": {
      "display_name": "default",
      "language": "python",
      "name": "python3"
    },
    "language_info": {
      "codemirror_mode": {
        "name": "ipython",
        "version": 3
      },
      "file_extension": ".py",
      "mimetype": "text/x-python",
      "name": "python",
      "nbconvert_exporter": "python",
      "pygments_lexer": "ipython3",
      "version": "3.13.1"
    }
  },
  "nbformat": 4,
  "nbformat_minor": 0
}